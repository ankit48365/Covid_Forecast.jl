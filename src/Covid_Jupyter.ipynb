{
 "cells": [
  {
   "cell_type": "code",
   "execution_count": 1,
   "metadata": {},
   "outputs": [],
   "source": [
    "using Pkg"
   ]
  },
  {
   "cell_type": "code",
   "execution_count": 4,
   "metadata": {},
   "outputs": [
    {
     "name": "stderr",
     "output_type": "stream",
     "text": [
      "\u001b[32m\u001b[1m  Resolving\u001b[22m\u001b[39m package versions...\n",
      "\u001b[32m\u001b[1m   Updating\u001b[22m\u001b[39m `D:\\MyGit\\Covid_Forecast\\Project.toml`\n",
      "\u001b[90m [no changes]\u001b[39m\n",
      "\u001b[32m\u001b[1m   Updating\u001b[22m\u001b[39m `D:\\MyGit\\Covid_Forecast\\Manifest.toml`\n",
      "\u001b[90m [no changes]\u001b[39m\n",
      "\u001b[32m\u001b[1m  Resolving\u001b[22m\u001b[39m package versions...\n",
      "\u001b[32m\u001b[1m   Updating\u001b[22m\u001b[39m `D:\\MyGit\\Covid_Forecast\\Project.toml`\n",
      "\u001b[90m [no changes]\u001b[39m\n",
      "\u001b[32m\u001b[1m   Updating\u001b[22m\u001b[39m `D:\\MyGit\\Covid_Forecast\\Manifest.toml`\n",
      "\u001b[90m [no changes]\u001b[39m\n",
      "\u001b[32m\u001b[1m  Resolving\u001b[22m\u001b[39m package versions...\n",
      "\u001b[32m\u001b[1m   Updating\u001b[22m\u001b[39m `D:\\MyGit\\Covid_Forecast\\Project.toml`\n",
      "\u001b[90m [no changes]\u001b[39m\n",
      "\u001b[32m\u001b[1m   Updating\u001b[22m\u001b[39m `D:\\MyGit\\Covid_Forecast\\Manifest.toml`\n",
      "\u001b[90m [no changes]\u001b[39m\n",
      "\u001b[32m\u001b[1m  Resolving\u001b[22m\u001b[39m package versions...\n",
      "\u001b[32m\u001b[1m   Updating\u001b[22m\u001b[39m `D:\\MyGit\\Covid_Forecast\\Project.toml`\n",
      "\u001b[90m [no changes]\u001b[39m\n",
      "\u001b[32m\u001b[1m   Updating\u001b[22m\u001b[39m `D:\\MyGit\\Covid_Forecast\\Manifest.toml`\n",
      "\u001b[90m [no changes]\u001b[39m\n",
      "\u001b[32m\u001b[1m  Resolving\u001b[22m\u001b[39m package versions...\n",
      "\u001b[32m\u001b[1m   Updating\u001b[22m\u001b[39m `D:\\MyGit\\Covid_Forecast\\Project.toml`\n",
      "\u001b[90m [no changes]\u001b[39m\n",
      "\u001b[32m\u001b[1m   Updating\u001b[22m\u001b[39m `D:\\MyGit\\Covid_Forecast\\Manifest.toml`\n",
      "\u001b[90m [no changes]\u001b[39m\n"
     ]
    }
   ],
   "source": [
    "Pkg.add(\"Interact\")\n",
    "Pkg.add(\"WebIO\")\n",
    "Pkg.add(\"DataFrames\")\n",
    "Pkg.add(\"CSV\")\n",
    "Pkg.add(\"Conda\")"
   ]
  },
  {
   "cell_type": "code",
   "execution_count": 5,
   "metadata": {},
   "outputs": [],
   "source": [
    "using WebIO\n",
    "using Interact\n",
    "using DataFrames\n",
    "using CSV\n",
    "using Conda"
   ]
  },
  {
   "cell_type": "markdown",
   "metadata": {},
   "source": [
    "### within a Julia REPL\n",
    "using Conda\n",
    "\n",
    "Conda.pip_interop(true)\n",
    "\n",
    "Conda.pip(\"install\", \"webio_jupyter_extension\")"
   ]
  },
  {
   "cell_type": "code",
   "execution_count": 6,
   "metadata": {},
   "outputs": [
    {
     "name": "stderr",
     "output_type": "stream",
     "text": [
      "┌ Info: Running `conda config --set pip_interop_enabled true --file 'C:\\Users\\ankit\\.julia\\conda\\3\\condarc-julia.yml'` in root environment\n",
      "└ @ Conda C:\\Users\\ankit\\.julia\\packages\\Conda\\sNGum\\src\\Conda.jl:128\n"
     ]
    }
   ],
   "source": [
    "Conda.pip_interop(true)"
   ]
  },
  {
   "cell_type": "code",
   "execution_count": 7,
   "metadata": {},
   "outputs": [
    {
     "name": "stderr",
     "output_type": "stream",
     "text": [
      "┌ Info: Running `pip install webio_jupyter_extension` in root environment\n",
      "└ @ Conda C:\\Users\\ankit\\.julia\\packages\\Conda\\sNGum\\src\\Conda.jl:448\n"
     ]
    },
    {
     "name": "stdout",
     "output_type": "stream",
     "text": [
      "Requirement already satisfied: webio_jupyter_extension in c:\\users\\ankit\\.julia\\conda\\3\\lib\\site-packages (0.1.0)\r\n"
     ]
    }
   ],
   "source": [
    "Conda.pip(\"install\", \"webio_jupyter_extension\")"
   ]
  },
  {
   "cell_type": "code",
   "execution_count": 9,
   "metadata": {},
   "outputs": [
    {
     "name": "stdout",
     "output_type": "stream",
     "text": [
      "i ^ 2 = 1\n",
      "i ^ 2 = 4\n",
      "i ^ 2 = 9\n",
      "i ^ 2 = 16\n",
      "i ^ 2 = 25\n",
      "i ^ 2 = 36\n",
      "i ^ 2 = 49\n",
      "i ^ 2 = 64\n",
      "i ^ 2 = 81\n",
      "i ^ 2 = 100\n"
     ]
    }
   ],
   "source": [
    "for i in 1:10\n",
    "\t@show i^2\n",
    "end"
   ]
  },
  {
   "cell_type": "markdown",
   "metadata": {},
   "source": [
    "# Start Here\n",
    "https://github.com/mitmath/6S083\n",
    "\n",
    "https://www.youtube.com/watch?v=Yr8Og1Rre1I&t=7s\n",
    "\n",
    "https://github.com/CSSEGISandData/COVID-19\n",
    "\n",
    "COVID-19/csse_covid_19_data/csse_covid_19_time_series/time_series_covid19_confirmed_global.csv"
   ]
  },
  {
   "cell_type": "markdown",
   "metadata": {},
   "source": [
    "_________________________________________________________________________________________"
   ]
  },
  {
   "cell_type": "markdown",
   "metadata": {},
   "source": [
    "store above URL CSV in a varaible"
   ]
  },
  {
   "cell_type": "code",
   "execution_count": 11,
   "metadata": {},
   "outputs": [
    {
     "data": {
      "text/plain": [
       "\"https://raw.githubusercontent.com/CSSEGISandData/COVID-19/master/csse_covid_19_data/csse_covid_19_time_series/time_series_covid19_confirmed_global.csv\""
      ]
     },
     "execution_count": 11,
     "metadata": {},
     "output_type": "execute_result"
    }
   ],
   "source": [
    "url = \"https://raw.githubusercontent.com/CSSEGISandData/COVID-19/master/csse_covid_19_data/csse_covid_19_time_series/time_series_covid19_confirmed_global.csv\""
   ]
  },
  {
   "cell_type": "code",
   "execution_count": 12,
   "metadata": {},
   "outputs": [
    {
     "data": {
      "text/plain": [
       "\"confirmed_global.csv\""
      ]
     },
     "execution_count": 12,
     "metadata": {},
     "output_type": "execute_result"
    }
   ],
   "source": [
    "download(url, \"confirmed_global.csv\")"
   ]
  },
  {
   "cell_type": "code",
   "execution_count": 13,
   "metadata": {},
   "outputs": [],
   "source": [
    "data = CSV.read(\"confirmed_global.csv\", DataFrame);"
   ]
  },
  {
   "cell_type": "markdown",
   "metadata": {},
   "source": [
    "Change Header titles"
   ]
  },
  {
   "cell_type": "code",
   "execution_count": 16,
   "metadata": {},
   "outputs": [],
   "source": [
    "data = rename(data, 1 => \"Provice\", 2 => \"Country\" );"
   ]
  },
  {
   "cell_type": "markdown",
   "metadata": {},
   "source": [
    "extract unique countries name"
   ]
  },
  {
   "cell_type": "code",
   "execution_count": 18,
   "metadata": {},
   "outputs": [],
   "source": [
    "cntr_list = unique(collect(data[:,2]));"
   ]
  },
  {
   "cell_type": "code",
   "execution_count": 20,
   "metadata": {},
   "outputs": [
    {
     "name": "stdout",
     "output_type": "stream",
     "text": [
      "cntr_list[i] = \"Afghanistan\"\n",
      "cntr_list[i] = \"Albania\"\n",
      "cntr_list[i] = \"Algeria\"\n",
      "cntr_list[i] = \"Andorra\"\n",
      "cntr_list[i] = \"Angola\"\n",
      "cntr_list[i] = \"Antigua and Barbuda\"\n",
      "cntr_list[i] = \"Argentina\"\n",
      "cntr_list[i] = \"Armenia\"\n",
      "cntr_list[i] = \"Australia\"\n",
      "cntr_list[i] = \"Austria\"\n",
      "cntr_list[i] = \"Azerbaijan\"\n",
      "cntr_list[i] = \"Bahamas\"\n",
      "cntr_list[i] = \"Bahrain\"\n",
      "cntr_list[i] = \"Bangladesh\"\n",
      "cntr_list[i] = \"Barbados\"\n",
      "cntr_list[i] = \"Belarus\"\n",
      "cntr_list[i] = \"Belgium\"\n",
      "cntr_list[i] = \"Belize\"\n",
      "cntr_list[i] = \"Benin\"\n",
      "cntr_list[i] = \"Bhutan\"\n",
      "cntr_list[i] = \"Bolivia\"\n",
      "cntr_list[i] = \"Bosnia and Herzegovina\"\n",
      "cntr_list[i] = \"Botswana\"\n",
      "cntr_list[i] = \"Brazil\"\n",
      "cntr_list[i] = \"Brunei\"\n",
      "cntr_list[i] = \"Bulgaria\"\n",
      "cntr_list[i] = \"Burkina Faso\"\n",
      "cntr_list[i] = \"Burma\"\n",
      "cntr_list[i] = \"Burundi\"\n",
      "cntr_list[i] = \"Cabo Verde\"\n",
      "cntr_list[i] = \"Cambodia\"\n",
      "cntr_list[i] = \"Cameroon\"\n",
      "cntr_list[i] = \"Canada\"\n",
      "cntr_list[i] = \"Central African Republic\"\n",
      "cntr_list[i] = \"Chad\"\n",
      "cntr_list[i] = \"Chile\"\n",
      "cntr_list[i] = \"China\"\n",
      "cntr_list[i] = \"Colombia\"\n",
      "cntr_list[i] = \"Comoros\"\n",
      "cntr_list[i] = \"Congo (Brazzaville)\"\n",
      "cntr_list[i] = \"Congo (Kinshasa)\"\n",
      "cntr_list[i] = \"Costa Rica\"\n",
      "cntr_list[i] = \"Cote d'Ivoire\"\n",
      "cntr_list[i] = \"Croatia\"\n",
      "cntr_list[i] = \"Cuba\"\n",
      "cntr_list[i] = \"Cyprus\"\n",
      "cntr_list[i] = \"Czechia\"\n",
      "cntr_list[i] = \"Denmark\"\n",
      "cntr_list[i] = \"Diamond Princess\"\n",
      "cntr_list[i] = \"Djibouti\"\n",
      "cntr_list[i] = \"Dominica\"\n",
      "cntr_list[i] = \"Dominican Republic\"\n",
      "cntr_list[i] = \"Ecuador\"\n",
      "cntr_list[i] = \"Egypt\"\n",
      "cntr_list[i] = \"El Salvador\"\n",
      "cntr_list[i] = \"Equatorial Guinea\"\n",
      "cntr_list[i] = \"Eritrea\"\n",
      "cntr_list[i] = \"Estonia\"\n",
      "cntr_list[i] = \"Eswatini\"\n",
      "cntr_list[i] = \"Ethiopia\"\n",
      "cntr_list[i] = \"Fiji\"\n",
      "cntr_list[i] = \"Finland\"\n",
      "cntr_list[i] = \"France\"\n",
      "cntr_list[i] = \"Gabon\"\n",
      "cntr_list[i] = \"Gambia\"\n",
      "cntr_list[i] = \"Georgia\"\n",
      "cntr_list[i] = \"Germany\"\n",
      "cntr_list[i] = \"Ghana\"\n",
      "cntr_list[i] = \"Greece\"\n",
      "cntr_list[i] = \"Grenada\"\n",
      "cntr_list[i] = \"Guatemala\"\n",
      "cntr_list[i] = \"Guinea\"\n",
      "cntr_list[i] = \"Guinea-Bissau\"\n",
      "cntr_list[i] = \"Guyana\"\n",
      "cntr_list[i] = \"Haiti\"\n",
      "cntr_list[i] = \"Holy See\"\n",
      "cntr_list[i] = \"Honduras\"\n",
      "cntr_list[i] = \"Hungary\"\n",
      "cntr_list[i] = \"Iceland\"\n",
      "cntr_list[i] = \"India\"\n",
      "cntr_list[i] = \"Indonesia\"\n",
      "cntr_list[i] = \"Iran\"\n",
      "cntr_list[i] = \"Iraq\"\n",
      "cntr_list[i] = \"Ireland\"\n",
      "cntr_list[i] = \"Israel\"\n",
      "cntr_list[i] = \"Italy\"\n",
      "cntr_list[i] = \"Jamaica\"\n",
      "cntr_list[i] = \"Japan\"\n",
      "cntr_list[i] = \"Jordan\"\n",
      "cntr_list[i] = \"Kazakhstan\"\n",
      "cntr_list[i] = \"Kenya\"\n",
      "cntr_list[i] = \"Kiribati\"\n",
      "cntr_list[i] = \"Korea, South\"\n",
      "cntr_list[i] = \"Kosovo\"\n",
      "cntr_list[i] = \"Kuwait\"\n",
      "cntr_list[i] = \"Kyrgyzstan\"\n",
      "cntr_list[i] = \"Laos\"\n",
      "cntr_list[i] = \"Latvia\"\n",
      "cntr_list[i] = \"Lebanon\"\n",
      "cntr_list[i] = \"Lesotho\"\n",
      "cntr_list[i] = \"Liberia\"\n",
      "cntr_list[i] = \"Libya\"\n",
      "cntr_list[i] = \"Liechtenstein\"\n",
      "cntr_list[i] = \"Lithuania\"\n",
      "cntr_list[i] = \"Luxembourg\"\n",
      "cntr_list[i] = \"MS Zaandam\"\n",
      "cntr_list[i] = \"Madagascar\"\n",
      "cntr_list[i] = \"Malawi\"\n",
      "cntr_list[i] = \"Malaysia\"\n",
      "cntr_list[i] = \"Maldives\"\n",
      "cntr_list[i] = \"Mali\"\n",
      "cntr_list[i] = \"Malta\"\n",
      "cntr_list[i] = \"Marshall Islands\"\n",
      "cntr_list[i] = \"Mauritania\"\n",
      "cntr_list[i] = \"Mauritius\"\n",
      "cntr_list[i] = \"Mexico\"\n",
      "cntr_list[i] = \"Micronesia\"\n",
      "cntr_list[i] = \"Moldova\"\n",
      "cntr_list[i] = \"Monaco\"\n",
      "cntr_list[i] = \"Mongolia\"\n",
      "cntr_list[i] = \"Montenegro\"\n",
      "cntr_list[i] = \"Morocco\"\n",
      "cntr_list[i] = \"Mozambique\"\n",
      "cntr_list[i] = \"Namibia\"\n",
      "cntr_list[i] = \"Nepal\"\n",
      "cntr_list[i] = \"Netherlands\"\n",
      "cntr_list[i] = \"New Zealand\"\n",
      "cntr_list[i] = \"Nicaragua\"\n",
      "cntr_list[i] = \"Niger\"\n",
      "cntr_list[i] = \"Nigeria\"\n",
      "cntr_list[i] = \"North Macedonia\"\n",
      "cntr_list[i] = \"Norway\"\n",
      "cntr_list[i] = \"Oman\"\n",
      "cntr_list[i] = \"Pakistan\"\n",
      "cntr_list[i] = \"Palau\"\n",
      "cntr_list[i] = \"Panama\"\n",
      "cntr_list[i] = \"Papua New Guinea\"\n",
      "cntr_list[i] = \"Paraguay\"\n",
      "cntr_list[i] = \"Peru\"\n",
      "cntr_list[i] = \"Philippines\"\n",
      "cntr_list[i] = \"Poland\"\n",
      "cntr_list[i] = \"Portugal\"\n",
      "cntr_list[i] = \"Qatar\"\n",
      "cntr_list[i] = \"Romania\"\n",
      "cntr_list[i] = \"Russia\"\n",
      "cntr_list[i] = \"Rwanda\"\n",
      "cntr_list[i] = \"Saint Kitts and Nevis\"\n",
      "cntr_list[i] = \"Saint Lucia\"\n",
      "cntr_list[i] = \"Saint Vincent and the Grenadines\"\n",
      "cntr_list[i] = \"Samoa\"\n",
      "cntr_list[i] = \"San Marino\"\n",
      "cntr_list[i] = \"Sao Tome and Principe\"\n",
      "cntr_list[i] = \"Saudi Arabia\"\n",
      "cntr_list[i] = \"Senegal\"\n",
      "cntr_list[i] = \"Serbia\"\n",
      "cntr_list[i] = \"Seychelles\"\n",
      "cntr_list[i] = \"Sierra Leone\"\n",
      "cntr_list[i] = \"Singapore\"\n",
      "cntr_list[i] = \"Slovakia\"\n",
      "cntr_list[i] = \"Slovenia\"\n",
      "cntr_list[i] = \"Solomon Islands\"\n",
      "cntr_list[i] = \"Somalia\"\n",
      "cntr_list[i] = \"South Africa\"\n",
      "cntr_list[i] = \"South Sudan\"\n",
      "cntr_list[i] = \"Spain\"\n",
      "cntr_list[i] = \"Sri Lanka\"\n",
      "cntr_list[i] = \"Sudan\"\n",
      "cntr_list[i] = \"Summer Olympics 2020\"\n",
      "cntr_list[i] = \"Suriname\"\n",
      "cntr_list[i] = \"Sweden\"\n",
      "cntr_list[i] = \"Switzerland\"\n",
      "cntr_list[i] = \"Syria\"\n",
      "cntr_list[i] = \"Taiwan*\"\n",
      "cntr_list[i] = \"Tajikistan\"\n",
      "cntr_list[i] = \"Tanzania\"\n",
      "cntr_list[i] = \"Thailand\"\n",
      "cntr_list[i] = \"Timor-Leste\"\n",
      "cntr_list[i] = \"Togo\"\n",
      "cntr_list[i] = \"Trinidad and Tobago\"\n",
      "cntr_list[i] = \"Tunisia\"\n",
      "cntr_list[i] = \"Turkey\"\n",
      "cntr_list[i] = \"US\"\n",
      "cntr_list[i] = \"Uganda\"\n",
      "cntr_list[i] = \"Ukraine\"\n",
      "cntr_list[i] = \"United Arab Emirates\"\n",
      "cntr_list[i] = \"United Kingdom\"\n",
      "cntr_list[i] = \"Uruguay\"\n",
      "cntr_list[i] = \"Uzbekistan\"\n",
      "cntr_list[i] = \"Vanuatu\"\n",
      "cntr_list[i] = \"Venezuela\"\n",
      "cntr_list[i] = \"Vietnam\"\n",
      "cntr_list[i] = \"West Bank and Gaza\"\n",
      "cntr_list[i] = \"Yemen\"\n",
      "cntr_list[i] = \"Zambia\"\n",
      "cntr_list[i] = \"Zimbabwe\"\n"
     ]
    }
   ],
   "source": [
    "for i in 1:length(cntr_list)\n",
    "\t@show cntr_list[i]\n",
    "end"
   ]
  },
  {
   "cell_type": "code",
   "execution_count": 34,
   "metadata": {},
   "outputs": [
    {
     "name": "stdout",
     "output_type": "stream",
     "text": [
      "data[i, 1:5] = DataFrameRow\n",
      " Row │ Provice    Country        Lat       Long      1/22/20\n",
      "     │ String63?  String63       Float64?  Float64?  Int64\n",
      "─────┼───────────────────────────────────────────────────────\n",
      "  98 │ missing    Cote d'Ivoire      7.54   -5.5471        0\n"
     ]
    },
    {
     "data": {
      "application/vnd.webio.node+json": {
       "children": [
        {
         "children": [
          {
           "children": [
            {
             "children": [
              {
               "children": [
                {
                 "children": [
                  "i"
                 ],
                 "instanceArgs": {
                  "namespace": "html",
                  "tag": "label"
                 },
                 "nodeType": "DOM",
                 "props": {
                  "className": "interact ",
                  "style": {
                   "padding": "5px 10px 0px 10px"
                  }
                 },
                 "type": "node"
                }
               ],
               "instanceArgs": {
                "namespace": "html",
                "tag": "div"
               },
               "nodeType": "DOM",
               "props": {
                "className": "interact-flex-row-left"
               },
               "type": "node"
              },
              {
               "children": [
                {
                 "children": [],
                 "instanceArgs": {
                  "namespace": "html",
                  "tag": "input"
                 },
                 "nodeType": "DOM",
                 "props": {
                  "attributes": {
                   "data-bind": "numericValue: index, valueUpdate: 'input', event: {change: function (){this.changes(this.changes()+1)}}",
                   "orient": "horizontal",
                   "type": "range"
                  },
                  "className": "slider slider is-fullwidth",
                  "max": 195,
                  "min": 1,
                  "step": 1,
                  "style": {}
                 },
                 "type": "node"
                }
               ],
               "instanceArgs": {
                "namespace": "html",
                "tag": "div"
               },
               "nodeType": "DOM",
               "props": {
                "className": "interact-flex-row-center"
               },
               "type": "node"
              },
              {
               "children": [
                {
                 "children": [],
                 "instanceArgs": {
                  "namespace": "html",
                  "tag": "p"
                 },
                 "nodeType": "DOM",
                 "props": {
                  "attributes": {
                   "data-bind": "text: formatted_val"
                  }
                 },
                 "type": "node"
                }
               ],
               "instanceArgs": {
                "namespace": "html",
                "tag": "div"
               },
               "nodeType": "DOM",
               "props": {
                "className": "interact-flex-row-right"
               },
               "type": "node"
              }
             ],
             "instanceArgs": {
              "namespace": "html",
              "tag": "div"
             },
             "nodeType": "DOM",
             "props": {
              "className": "interact-flex-row interact-widget"
             },
             "type": "node"
            }
           ],
           "instanceArgs": {
            "handlers": {
             "changes": [
              "(function (val){return (val!=this.model[\"changes\"]()) ? (this.valueFromJulia[\"changes\"]=true, this.model[\"changes\"](val)) : undefined})"
             ],
             "index": [
              "(function (val){return (val!=this.model[\"index\"]()) ? (this.valueFromJulia[\"index\"]=true, this.model[\"index\"](val)) : undefined})"
             ]
            },
            "id": "7423381077373507044",
            "imports": {
             "data": [
              {
               "name": "knockout",
               "type": "js",
               "url": "/assetserver/4bc0fe6d4d82f92d7771005479d646598c9746a6-knockout.js"
              },
              {
               "name": "knockout_punches",
               "type": "js",
               "url": "/assetserver/7da5842cd6d5643a614940cc3607900a91878fba-knockout_punches.js"
              },
              {
               "name": null,
               "type": "js",
               "url": "/assetserver/9f64a9057fc990c9d73f16be3873356da59da030-all.js"
              },
              {
               "name": null,
               "type": "css",
               "url": "/assetserver/caebe2431f3724c15eb7bb2d0969e9429cfe1f72-style.css"
              },
              {
               "name": null,
               "type": "css",
               "url": "/assetserver/65dcc9abf2222b03a23e162309df15975904101f-bulma_confined.min.css"
              }
             ],
             "type": "async_block"
            },
            "mount_callbacks": [
             "function () {\n    var handler = (function (ko, koPunches) {\n    ko.punches.enableAll();\n    ko.bindingHandlers.numericValue = {\n        init: function(element, valueAccessor, allBindings, data, context) {\n            var stringified = ko.observable(ko.unwrap(valueAccessor()));\n            stringified.subscribe(function(value) {\n                var val = parseFloat(value);\n                if (!isNaN(val)) {\n                    valueAccessor()(val);\n                }\n            });\n            valueAccessor().subscribe(function(value) {\n                var str = JSON.stringify(value);\n                if ((str == \"0\") && ([\"-0\", \"-0.\"].indexOf(stringified()) >= 0))\n                     return;\n                 if ([\"null\", \"\"].indexOf(str) >= 0)\n                     return;\n                stringified(str);\n            });\n            ko.applyBindingsToNode(\n                element,\n                {\n                    value: stringified,\n                    valueUpdate: allBindings.get('valueUpdate'),\n                },\n                context,\n            );\n        }\n    };\n    var json_data = {\"formatted_vals\":[\"1\",\"2\",\"3\",\"4\",\"5\",\"6\",\"7\",\"8\",\"9\",\"10\",\"11\",\"12\",\"13\",\"14\",\"15\",\"16\",\"17\",\"18\",\"19\",\"20\",\"21\",\"22\",\"23\",\"24\",\"25\",\"26\",\"27\",\"28\",\"29\",\"30\",\"31\",\"32\",\"33\",\"34\",\"35\",\"36\",\"37\",\"38\",\"39\",\"40\",\"41\",\"42\",\"43\",\"44\",\"45\",\"46\",\"47\",\"48\",\"49\",\"50\",\"51\",\"52\",\"53\",\"54\",\"55\",\"56\",\"57\",\"58\",\"59\",\"60\",\"61\",\"62\",\"63\",\"64\",\"65\",\"66\",\"67\",\"68\",\"69\",\"70\",\"71\",\"72\",\"73\",\"74\",\"75\",\"76\",\"77\",\"78\",\"79\",\"80\",\"81\",\"82\",\"83\",\"84\",\"85\",\"86\",\"87\",\"88\",\"89\",\"90\",\"91\",\"92\",\"93\",\"94\",\"95\",\"96\",\"97\",\"98\",\"99\",\"100\",\"101\",\"102\",\"103\",\"104\",\"105\",\"106\",\"107\",\"108\",\"109\",\"110\",\"111\",\"112\",\"113\",\"114\",\"115\",\"116\",\"117\",\"118\",\"119\",\"120\",\"121\",\"122\",\"123\",\"124\",\"125\",\"126\",\"127\",\"128\",\"129\",\"130\",\"131\",\"132\",\"133\",\"134\",\"135\",\"136\",\"137\",\"138\",\"139\",\"140\",\"141\",\"142\",\"143\",\"144\",\"145\",\"146\",\"147\",\"148\",\"149\",\"150\",\"151\",\"152\",\"153\",\"154\",\"155\",\"156\",\"157\",\"158\",\"159\",\"160\",\"161\",\"162\",\"163\",\"164\",\"165\",\"166\",\"167\",\"168\",\"169\",\"170\",\"171\",\"172\",\"173\",\"174\",\"175\",\"176\",\"177\",\"178\",\"179\",\"180\",\"181\",\"182\",\"183\",\"184\",\"185\",\"186\",\"187\",\"188\",\"189\",\"190\",\"191\",\"192\",\"193\",\"194\",\"195\"],\"changes\":WebIO.getval({\"name\":\"changes\",\"scope\":\"7423381077373507044\",\"id\":\"11811254211027028043\",\"type\":\"observable\"}),\"index\":WebIO.getval({\"name\":\"index\",\"scope\":\"7423381077373507044\",\"id\":\"8011094448863728253\",\"type\":\"observable\"})};\n    var self = this;\n    function AppViewModel() {\n        for (var key in json_data) {\n            var el = json_data[key];\n            this[key] = Array.isArray(el) ? ko.observableArray(el) : ko.observable(el);\n        }\n        \n        [this[\"formatted_val\"]=ko.computed(    function(){\n        return this.formatted_vals()[parseInt(this.index())-(1)];\n    }\n,this)]\n        [this[\"changes\"].subscribe((function (val){!(this.valueFromJulia[\"changes\"]) ? (WebIO.setval({\"name\":\"changes\",\"scope\":\"7423381077373507044\",\"id\":\"11811254211027028043\",\"type\":\"observable\"},val)) : undefined; return this.valueFromJulia[\"changes\"]=false}),self),this[\"index\"].subscribe((function (val){!(this.valueFromJulia[\"index\"]) ? (WebIO.setval({\"name\":\"index\",\"scope\":\"7423381077373507044\",\"id\":\"8011094448863728253\",\"type\":\"observable\"},val)) : undefined; return this.valueFromJulia[\"index\"]=false}),self)]\n        \n    }\n    self.model = new AppViewModel();\n    self.valueFromJulia = {};\n    for (var key in json_data) {\n        self.valueFromJulia[key] = false;\n    }\n    ko.applyBindings(self.model, self.dom);\n}\n);\n    (WebIO.importBlock({\"data\":[{\"name\":\"knockout\",\"type\":\"js\",\"url\":\"/assetserver/4bc0fe6d4d82f92d7771005479d646598c9746a6-knockout.js\"},{\"name\":\"knockout_punches\",\"type\":\"js\",\"url\":\"/assetserver/7da5842cd6d5643a614940cc3607900a91878fba-knockout_punches.js\"}],\"type\":\"async_block\"})).then((imports) => handler.apply(this, imports));\n}\n"
            ],
            "observables": {
             "changes": {
              "id": "11811254211027028043",
              "sync": false,
              "value": 0
             },
             "index": {
              "id": "8011094448863728253",
              "sync": true,
              "value": 98
             }
            },
            "systemjs_options": null
           },
           "nodeType": "Scope",
           "props": {},
           "type": "node"
          }
         ],
         "instanceArgs": {
          "namespace": "html",
          "tag": "div"
         },
         "nodeType": "DOM",
         "props": {
          "className": "field interact-widget"
         },
         "type": "node"
        },
        {
         "children": [
          {
           "children": [],
           "instanceArgs": {
            "id": "6700908405785530018",
            "name": "obs-node"
           },
           "nodeType": "ObservableNode",
           "props": {},
           "type": "node"
          }
         ],
         "instanceArgs": {
          "handlers": {},
          "id": "9616575075476147728",
          "imports": {
           "data": [],
           "type": "async_block"
          },
          "mount_callbacks": [],
          "observables": {
           "obs-node": {
            "id": "6700908405785530018",
            "sync": false,
            "value": {
             "children": [
              {
               "children": [],
               "instanceArgs": {
                "namespace": "html",
                "tag": "div"
               },
               "nodeType": "DOM",
               "props": {
                "setInnerHtml": "<p>DataFrameRow (5 columns)</p><div class=\"data-frame\"><table class=\"data-frame\"><thead><tr><th></th><th>Provice</th><th>Country</th><th>Lat</th><th>Long</th><th>1/22/20</th></tr><tr><th></th><th title=\"Union{Missing, String63}\">String63?</th><th title=\"String63\">String63</th><th title=\"Union{Missing, Float64}\">Float64?</th><th title=\"Union{Missing, Float64}\">Float64?</th><th title=\"Int64\">Int64</th></tr></thead><tbody><tr><th>98</th><td><em>missing</em></td><td>Cote d&apos;Ivoire</td><td>7.54</td><td>-5.5471</td><td>0</td></tr></tbody></table></div>"
               },
               "type": "node"
              }
             ],
             "instanceArgs": {
              "namespace": "html",
              "tag": "div"
             },
             "nodeType": "DOM",
             "props": {
              "className": "interact-flex-row interact-widget"
             },
             "type": "node"
            }
           }
          },
          "systemjs_options": null
         },
         "nodeType": "Scope",
         "props": {},
         "type": "node"
        }
       ],
       "instanceArgs": {
        "namespace": "html",
        "tag": "div"
       },
       "nodeType": "DOM",
       "props": {},
       "type": "node"
      },
      "text/html": [
       "<div\n",
       "    class=\"webio-mountpoint\"\n",
       "    data-webio-mountpoint=\"16510907279735449586\"\n",
       ">\n",
       "    <script>\n",
       "    (function(){\n",
       "    // Some integrations (namely, IJulia/Jupyter) use an alternate render pathway than\n",
       "    // just putting the html on the page. If WebIO isn't defined, then it's pretty likely\n",
       "    // that we're in one of those situations and the integration just isn't installed\n",
       "    // correctly.\n",
       "    if (typeof window.WebIO === \"undefined\") {\n",
       "        document\n",
       "            .querySelector('[data-webio-mountpoint=\"16510907279735449586\"]')\n",
       "            .innerHTML = (\n",
       "                '<div style=\"padding: 1em; background-color: #f8d6da; border: 1px solid #f5c6cb; font-weight: bold;\">' +\n",
       "                '<p><strong>WebIO not detected.</strong></p>' +\n",
       "                '<p>Please read ' +\n",
       "                '<a href=\"https://juliagizmos.github.io/WebIO.jl/latest/troubleshooting/not-detected/\" target=\"_blank\">the troubleshooting guide</a> ' +\n",
       "                'for more information on how to resolve this issue.</p>' +\n",
       "                '<p><a href=\"https://juliagizmos.github.io/WebIO.jl/latest/troubleshooting/not-detected/\" target=\"_blank\">https://juliagizmos.github.io/WebIO.jl/latest/troubleshooting/not-detected/</a></p>' +\n",
       "                '</div>'\n",
       "            );\n",
       "        return;\n",
       "    }\n",
       "    WebIO.mount(\n",
       "        document.querySelector('[data-webio-mountpoint=\"16510907279735449586\"]'),\n",
       "        {\"props\":{},\"nodeType\":\"DOM\",\"type\":\"node\",\"instanceArgs\":{\"namespace\":\"html\",\"tag\":\"div\"},\"children\":[{\"props\":{\"className\":\"field interact-widget\"},\"nodeType\":\"DOM\",\"type\":\"node\",\"instanceArgs\":{\"namespace\":\"html\",\"tag\":\"div\"},\"children\":[{\"props\":{},\"nodeType\":\"Scope\",\"type\":\"node\",\"instanceArgs\":{\"imports\":{\"data\":[{\"name\":\"knockout\",\"type\":\"js\",\"url\":\"\\/assetserver\\/4bc0fe6d4d82f92d7771005479d646598c9746a6-knockout.js\"},{\"name\":\"knockout_punches\",\"type\":\"js\",\"url\":\"\\/assetserver\\/7da5842cd6d5643a614940cc3607900a91878fba-knockout_punches.js\"},{\"name\":null,\"type\":\"js\",\"url\":\"\\/assetserver\\/9f64a9057fc990c9d73f16be3873356da59da030-all.js\"},{\"name\":null,\"type\":\"css\",\"url\":\"\\/assetserver\\/caebe2431f3724c15eb7bb2d0969e9429cfe1f72-style.css\"},{\"name\":null,\"type\":\"css\",\"url\":\"\\/assetserver\\/65dcc9abf2222b03a23e162309df15975904101f-bulma_confined.min.css\"}],\"type\":\"async_block\"},\"id\":\"7423381077373507044\",\"handlers\":{\"changes\":[\"(function (val){return (val!=this.model[\\\"changes\\\"]()) ? (this.valueFromJulia[\\\"changes\\\"]=true, this.model[\\\"changes\\\"](val)) : undefined})\"],\"index\":[\"(function (val){return (val!=this.model[\\\"index\\\"]()) ? (this.valueFromJulia[\\\"index\\\"]=true, this.model[\\\"index\\\"](val)) : undefined})\"]},\"systemjs_options\":null,\"mount_callbacks\":[\"function () {\\n    var handler = (function (ko, koPunches) {\\n    ko.punches.enableAll();\\n    ko.bindingHandlers.numericValue = {\\n        init: function(element, valueAccessor, allBindings, data, context) {\\n            var stringified = ko.observable(ko.unwrap(valueAccessor()));\\n            stringified.subscribe(function(value) {\\n                var val = parseFloat(value);\\n                if (!isNaN(val)) {\\n                    valueAccessor()(val);\\n                }\\n            });\\n            valueAccessor().subscribe(function(value) {\\n                var str = JSON.stringify(value);\\n                if ((str == \\\"0\\\") && ([\\\"-0\\\", \\\"-0.\\\"].indexOf(stringified()) >= 0))\\n                     return;\\n                 if ([\\\"null\\\", \\\"\\\"].indexOf(str) >= 0)\\n                     return;\\n                stringified(str);\\n            });\\n            ko.applyBindingsToNode(\\n                element,\\n                {\\n                    value: stringified,\\n                    valueUpdate: allBindings.get('valueUpdate'),\\n                },\\n                context,\\n            );\\n        }\\n    };\\n    var json_data = {\\\"formatted_vals\\\":[\\\"1\\\",\\\"2\\\",\\\"3\\\",\\\"4\\\",\\\"5\\\",\\\"6\\\",\\\"7\\\",\\\"8\\\",\\\"9\\\",\\\"10\\\",\\\"11\\\",\\\"12\\\",\\\"13\\\",\\\"14\\\",\\\"15\\\",\\\"16\\\",\\\"17\\\",\\\"18\\\",\\\"19\\\",\\\"20\\\",\\\"21\\\",\\\"22\\\",\\\"23\\\",\\\"24\\\",\\\"25\\\",\\\"26\\\",\\\"27\\\",\\\"28\\\",\\\"29\\\",\\\"30\\\",\\\"31\\\",\\\"32\\\",\\\"33\\\",\\\"34\\\",\\\"35\\\",\\\"36\\\",\\\"37\\\",\\\"38\\\",\\\"39\\\",\\\"40\\\",\\\"41\\\",\\\"42\\\",\\\"43\\\",\\\"44\\\",\\\"45\\\",\\\"46\\\",\\\"47\\\",\\\"48\\\",\\\"49\\\",\\\"50\\\",\\\"51\\\",\\\"52\\\",\\\"53\\\",\\\"54\\\",\\\"55\\\",\\\"56\\\",\\\"57\\\",\\\"58\\\",\\\"59\\\",\\\"60\\\",\\\"61\\\",\\\"62\\\",\\\"63\\\",\\\"64\\\",\\\"65\\\",\\\"66\\\",\\\"67\\\",\\\"68\\\",\\\"69\\\",\\\"70\\\",\\\"71\\\",\\\"72\\\",\\\"73\\\",\\\"74\\\",\\\"75\\\",\\\"76\\\",\\\"77\\\",\\\"78\\\",\\\"79\\\",\\\"80\\\",\\\"81\\\",\\\"82\\\",\\\"83\\\",\\\"84\\\",\\\"85\\\",\\\"86\\\",\\\"87\\\",\\\"88\\\",\\\"89\\\",\\\"90\\\",\\\"91\\\",\\\"92\\\",\\\"93\\\",\\\"94\\\",\\\"95\\\",\\\"96\\\",\\\"97\\\",\\\"98\\\",\\\"99\\\",\\\"100\\\",\\\"101\\\",\\\"102\\\",\\\"103\\\",\\\"104\\\",\\\"105\\\",\\\"106\\\",\\\"107\\\",\\\"108\\\",\\\"109\\\",\\\"110\\\",\\\"111\\\",\\\"112\\\",\\\"113\\\",\\\"114\\\",\\\"115\\\",\\\"116\\\",\\\"117\\\",\\\"118\\\",\\\"119\\\",\\\"120\\\",\\\"121\\\",\\\"122\\\",\\\"123\\\",\\\"124\\\",\\\"125\\\",\\\"126\\\",\\\"127\\\",\\\"128\\\",\\\"129\\\",\\\"130\\\",\\\"131\\\",\\\"132\\\",\\\"133\\\",\\\"134\\\",\\\"135\\\",\\\"136\\\",\\\"137\\\",\\\"138\\\",\\\"139\\\",\\\"140\\\",\\\"141\\\",\\\"142\\\",\\\"143\\\",\\\"144\\\",\\\"145\\\",\\\"146\\\",\\\"147\\\",\\\"148\\\",\\\"149\\\",\\\"150\\\",\\\"151\\\",\\\"152\\\",\\\"153\\\",\\\"154\\\",\\\"155\\\",\\\"156\\\",\\\"157\\\",\\\"158\\\",\\\"159\\\",\\\"160\\\",\\\"161\\\",\\\"162\\\",\\\"163\\\",\\\"164\\\",\\\"165\\\",\\\"166\\\",\\\"167\\\",\\\"168\\\",\\\"169\\\",\\\"170\\\",\\\"171\\\",\\\"172\\\",\\\"173\\\",\\\"174\\\",\\\"175\\\",\\\"176\\\",\\\"177\\\",\\\"178\\\",\\\"179\\\",\\\"180\\\",\\\"181\\\",\\\"182\\\",\\\"183\\\",\\\"184\\\",\\\"185\\\",\\\"186\\\",\\\"187\\\",\\\"188\\\",\\\"189\\\",\\\"190\\\",\\\"191\\\",\\\"192\\\",\\\"193\\\",\\\"194\\\",\\\"195\\\"],\\\"changes\\\":WebIO.getval({\\\"name\\\":\\\"changes\\\",\\\"scope\\\":\\\"7423381077373507044\\\",\\\"id\\\":\\\"11811254211027028043\\\",\\\"type\\\":\\\"observable\\\"}),\\\"index\\\":WebIO.getval({\\\"name\\\":\\\"index\\\",\\\"scope\\\":\\\"7423381077373507044\\\",\\\"id\\\":\\\"8011094448863728253\\\",\\\"type\\\":\\\"observable\\\"})};\\n    var self = this;\\n    function AppViewModel() {\\n        for (var key in json_data) {\\n            var el = json_data[key];\\n            this[key] = Array.isArray(el) ? ko.observableArray(el) : ko.observable(el);\\n        }\\n        \\n        [this[\\\"formatted_val\\\"]=ko.computed(    function(){\\n        return this.formatted_vals()[parseInt(this.index())-(1)];\\n    }\\n,this)]\\n        [this[\\\"changes\\\"].subscribe((function (val){!(this.valueFromJulia[\\\"changes\\\"]) ? (WebIO.setval({\\\"name\\\":\\\"changes\\\",\\\"scope\\\":\\\"7423381077373507044\\\",\\\"id\\\":\\\"11811254211027028043\\\",\\\"type\\\":\\\"observable\\\"},val)) : undefined; return this.valueFromJulia[\\\"changes\\\"]=false}),self),this[\\\"index\\\"].subscribe((function (val){!(this.valueFromJulia[\\\"index\\\"]) ? (WebIO.setval({\\\"name\\\":\\\"index\\\",\\\"scope\\\":\\\"7423381077373507044\\\",\\\"id\\\":\\\"8011094448863728253\\\",\\\"type\\\":\\\"observable\\\"},val)) : undefined; return this.valueFromJulia[\\\"index\\\"]=false}),self)]\\n        \\n    }\\n    self.model = new AppViewModel();\\n    self.valueFromJulia = {};\\n    for (var key in json_data) {\\n        self.valueFromJulia[key] = false;\\n    }\\n    ko.applyBindings(self.model, self.dom);\\n}\\n);\\n    (WebIO.importBlock({\\\"data\\\":[{\\\"name\\\":\\\"knockout\\\",\\\"type\\\":\\\"js\\\",\\\"url\\\":\\\"\\/assetserver\\/4bc0fe6d4d82f92d7771005479d646598c9746a6-knockout.js\\\"},{\\\"name\\\":\\\"knockout_punches\\\",\\\"type\\\":\\\"js\\\",\\\"url\\\":\\\"\\/assetserver\\/7da5842cd6d5643a614940cc3607900a91878fba-knockout_punches.js\\\"}],\\\"type\\\":\\\"async_block\\\"})).then((imports) => handler.apply(this, imports));\\n}\\n\"],\"observables\":{\"changes\":{\"sync\":false,\"id\":\"11811254211027028043\",\"value\":0},\"index\":{\"sync\":true,\"id\":\"8011094448863728253\",\"value\":98}}},\"children\":[{\"props\":{\"className\":\"interact-flex-row interact-widget\"},\"nodeType\":\"DOM\",\"type\":\"node\",\"instanceArgs\":{\"namespace\":\"html\",\"tag\":\"div\"},\"children\":[{\"props\":{\"className\":\"interact-flex-row-left\"},\"nodeType\":\"DOM\",\"type\":\"node\",\"instanceArgs\":{\"namespace\":\"html\",\"tag\":\"div\"},\"children\":[{\"props\":{\"className\":\"interact \",\"style\":{\"padding\":\"5px 10px 0px 10px\"}},\"nodeType\":\"DOM\",\"type\":\"node\",\"instanceArgs\":{\"namespace\":\"html\",\"tag\":\"label\"},\"children\":[\"i\"]}]},{\"props\":{\"className\":\"interact-flex-row-center\"},\"nodeType\":\"DOM\",\"type\":\"node\",\"instanceArgs\":{\"namespace\":\"html\",\"tag\":\"div\"},\"children\":[{\"props\":{\"max\":195,\"min\":1,\"attributes\":{\"type\":\"range\",\"data-bind\":\"numericValue: index, valueUpdate: 'input', event: {change: function (){this.changes(this.changes()+1)}}\",\"orient\":\"horizontal\"},\"step\":1,\"className\":\"slider slider is-fullwidth\",\"style\":{}},\"nodeType\":\"DOM\",\"type\":\"node\",\"instanceArgs\":{\"namespace\":\"html\",\"tag\":\"input\"},\"children\":[]}]},{\"props\":{\"className\":\"interact-flex-row-right\"},\"nodeType\":\"DOM\",\"type\":\"node\",\"instanceArgs\":{\"namespace\":\"html\",\"tag\":\"div\"},\"children\":[{\"props\":{\"attributes\":{\"data-bind\":\"text: formatted_val\"}},\"nodeType\":\"DOM\",\"type\":\"node\",\"instanceArgs\":{\"namespace\":\"html\",\"tag\":\"p\"},\"children\":[]}]}]}]}]},{\"props\":{},\"nodeType\":\"Scope\",\"type\":\"node\",\"instanceArgs\":{\"imports\":{\"data\":[],\"type\":\"async_block\"},\"id\":\"16400357787842772119\",\"handlers\":{},\"systemjs_options\":null,\"mount_callbacks\":[],\"observables\":{\"obs-node\":{\"sync\":false,\"id\":\"13697394258221534465\",\"value\":{\"props\":{\"className\":\"interact-flex-row interact-widget\"},\"nodeType\":\"DOM\",\"type\":\"node\",\"instanceArgs\":{\"namespace\":\"html\",\"tag\":\"div\"},\"children\":[{\"props\":{\"setInnerHtml\":\"<p>DataFrameRow (5 columns)<\\/p><div class=\\\"data-frame\\\"><table class=\\\"data-frame\\\"><thead><tr><th><\\/th><th>Provice<\\/th><th>Country<\\/th><th>Lat<\\/th><th>Long<\\/th><th>1\\/22\\/20<\\/th><\\/tr><tr><th><\\/th><th title=\\\"Union{Missing, String63}\\\">String63?<\\/th><th title=\\\"String63\\\">String63<\\/th><th title=\\\"Union{Missing, Float64}\\\">Float64?<\\/th><th title=\\\"Union{Missing, Float64}\\\">Float64?<\\/th><th title=\\\"Int64\\\">Int64<\\/th><\\/tr><\\/thead><tbody><tr><th>98<\\/th><td><em>missing<\\/em><\\/td><td>Cote d&apos;Ivoire<\\/td><td>7.54<\\/td><td>-5.5471<\\/td><td>0<\\/td><\\/tr><\\/tbody><\\/table><\\/div>\"},\"nodeType\":\"DOM\",\"type\":\"node\",\"instanceArgs\":{\"namespace\":\"html\",\"tag\":\"div\"},\"children\":[]}]}}}},\"children\":[{\"props\":{},\"nodeType\":\"ObservableNode\",\"type\":\"node\",\"instanceArgs\":{\"id\":\"13697394258221534465\",\"name\":\"obs-node\"},\"children\":[]}]}]},\n",
       "        window,\n",
       "    );\n",
       "    })()\n",
       "    </script>\n",
       "</div>\n"
      ],
      "text/plain": [
       "Node{WebIO.DOM}(WebIO.DOM(:html, :div), Any[Node{WebIO.DOM}(WebIO.DOM(:html, :div), Any[Scope(Node{WebIO.DOM}(WebIO.DOM(:html, :div), Any[Node{WebIO.DOM}(WebIO.DOM(:html, :div), Any[Node{WebIO.DOM}(WebIO.DOM(:html, :label), Any[\"i\"], Dict{Symbol,Any}(:className => \"interact \",:style => Dict{Any,Any}(:padding => \"5px 10px 0px 10px\")))], Dict{Symbol,Any}(:className => \"interact-flex-row-left\")), Node{WebIO.DOM}(WebIO.DOM(:html, :div), Any[Node{WebIO.DOM}(WebIO.DOM(:html, :input), Any[], Dict{Symbol,Any}(:max => 195,:min => 1,:attributes => Dict{Any,Any}(:type => \"range\",Symbol(\"data-bind\") => \"numericValue: index, valueUpdate: 'input', event: {change: function (){this.changes(this.changes()+1)}}\",\"orient\" => \"horizontal\"),:step => 1,:className => \"slider slider is-fullwidth\",:style => Dict{Any,Any}()))], Dict{Symbol,Any}(:className => \"interact-flex-row-center\")), Node{WebIO.DOM}(WebIO.DOM(:html, :div), Any[Node{WebIO.DOM}(WebIO.DOM(:html, :p), Any[], Dict{Symbol,Any}(:attributes => Dict(\"data-bind\" => \"text: formatted_val\")))], Dict{Symbol,Any}(:className => \"interact-flex-row-right\"))], Dict{Symbol,Any}(:className => \"interact-flex-row interact-widget\")), Dict{String,Tuple{Observables.AbstractObservable,Union{Nothing, Bool}}}(\"changes\" => (Observable{Int64} with 1 listeners. Value:\n",
       "0, nothing),\"index\" => (Observable{Int64} with 2 listeners. Value:\n",
       "98, nothing)), Set(String[]), nothing, Asset[Asset(\"js\", \"knockout\", \"C:\\\\Users\\\\ankit\\\\.julia\\\\packages\\\\Knockout\\\\3gjS1\\\\src\\\\..\\\\assets\\\\knockout.js\"), Asset(\"js\", \"knockout_punches\", \"C:\\\\Users\\\\ankit\\\\.julia\\\\packages\\\\Knockout\\\\3gjS1\\\\src\\\\..\\\\assets\\\\knockout_punches.js\"), Asset(\"js\", nothing, \"C:\\\\Users\\\\ankit\\\\.julia\\\\packages\\\\InteractBase\\\\o1I6G\\\\src\\\\..\\\\assets\\\\all.js\"), Asset(\"css\", nothing, \"C:\\\\Users\\\\ankit\\\\.julia\\\\packages\\\\InteractBase\\\\o1I6G\\\\src\\\\..\\\\assets\\\\style.css\"), Asset(\"css\", nothing, \"C:\\\\Users\\\\ankit\\\\.julia\\\\packages\\\\Interact\\\\pVyN2\\\\src\\\\..\\\\assets\\\\bulma_confined.min.css\")], Dict{Any,Any}(\"changes\" => Any[WebIO.JSString(\"(function (val){return (val!=this.model[\\\"changes\\\"]()) ? (this.valueFromJulia[\\\"changes\\\"]=true, this.model[\\\"changes\\\"](val)) : undefined})\")],\"index\" => Any[WebIO.JSString(\"(function (val){return (val!=this.model[\\\"index\\\"]()) ? (this.valueFromJulia[\\\"index\\\"]=true, this.model[\\\"index\\\"](val)) : undefined})\")]), WebIO.ConnectionPool(Channel{Any}(sz_max:32,sz_curr:0), Set(AbstractConnection[]), Base.GenericCondition{Base.AlwaysLockedST}(Base.InvasiveLinkedList{Task}(Task (runnable) @0x0000000014189cd0, Task (runnable) @0x0000000014189cd0), Base.AlwaysLockedST(1))), WebIO.JSString[WebIO.JSString(\"function () {\\n    var handler = (function (ko, koPunches) {\\n    ko.punches.enableAll();\\n    ko.bindingHandlers.numericValue = {\\n        init: function(element, valueAccessor, allBindings, data, context) {\\n            var stringified = ko.observable(ko.unwrap(valueAccessor()));\\n            stringified.subscribe(function(value) {\\n                var val = parseFloat(value);\\n                if (!isNaN(val)) {\\n                    valueAccessor()(val);\\n                }\\n            });\\n            valueAccessor().subscribe(function(value) {\\n                var str = JSON.stringify(value);\\n                if ((str == \\\"0\\\") && ([\\\"-0\\\", \\\"-0.\\\"].indexOf(stringified()) >= 0))\\n                     return;\\n                 if ([\\\"null\\\", \\\"\\\"].indexOf(str) >= 0)\\n                     return;\\n                stringified(str);\\n            });\\n            ko.applyBindingsToNode(\\n                element,\\n                {\\n                    value: stringified,\\n                    valueUpdate: allBindings.get('valueUpdate'),\\n                },\\n                context,\\n            );\\n        }\\n    };\\n    var json_data = {\\\"formatted_vals\\\":[\\\"1\\\",\\\"2\\\",\\\"3\\\",\\\"4\\\",\\\"5\\\",\\\"6\\\",\\\"7\\\",\\\"8\\\",\\\"9\\\",\\\"10\\\",\\\"11\\\",\\\"12\\\",\\\"13\\\",\\\"14\\\",\\\"15\\\",\\\"16\\\",\\\"17\\\",\\\"18\\\",\\\"19\\\",\\\"20\\\",\\\"21\\\",\\\"22\\\",\\\"23\\\",\\\"24\\\",\\\"25\\\",\\\"26\\\",\\\"27\\\",\\\"28\\\",\\\"29\\\",\\\"30\\\",\\\"31\\\",\\\"32\\\",\\\"33\\\",\\\"34\\\",\\\"35\\\",\\\"36\\\",\\\"37\\\",\\\"38\\\",\\\"39\\\",\\\"40\\\",\\\"41\\\",\\\"42\\\",\\\"43\\\",\\\"44\\\",\\\"45\\\",\\\"46\\\",\\\"47\\\",\\\"48\\\",\\\"49\\\",\\\"50\\\",\\\"51\\\",\\\"52\\\",\\\"53\\\",\\\"54\\\",\\\"55\\\",\\\"56\\\",\\\"57\\\",\\\"58\\\",\\\"59\\\",\\\"60\\\",\\\"61\\\",\\\"62\\\",\\\"63\\\",\\\"64\\\",\\\"65\\\",\\\"66\\\",\\\"67\\\",\\\"68\\\",\\\"69\\\",\\\"70\\\",\\\"71\\\",\\\"72\\\",\\\"73\\\",\\\"74\\\",\\\"75\\\",\\\"76\\\",\\\"77\\\",\\\"78\\\",\\\"79\\\",\\\"80\\\",\\\"81\\\",\\\"82\\\",\\\"83\\\",\\\"84\\\",\\\"85\\\",\\\"86\\\",\\\"87\\\",\\\"88\\\",\\\"89\\\",\\\"90\\\",\\\"91\\\",\\\"92\\\",\\\"93\\\",\\\"94\\\",\\\"95\\\",\\\"96\\\",\\\"97\\\",\\\"98\\\",\\\"99\\\",\\\"100\\\",\\\"101\\\",\\\"102\\\",\\\"103\\\",\\\"104\\\",\\\"105\\\",\\\"106\\\",\\\"107\\\",\\\"108\\\",\\\"109\\\",\\\"110\\\",\\\"111\\\",\\\"112\\\",\\\"113\\\",\\\"114\\\",\\\"115\\\",\\\"116\\\",\\\"117\\\",\\\"118\\\",\\\"119\\\",\\\"120\\\",\\\"121\\\",\\\"122\\\",\\\"123\\\",\\\"124\\\",\\\"125\\\",\\\"126\\\",\\\"127\\\",\\\"128\\\",\\\"129\\\",\\\"130\\\",\\\"131\\\",\\\"132\\\",\\\"133\\\",\\\"134\\\",\\\"135\\\",\\\"136\\\",\\\"137\\\",\\\"138\\\",\\\"139\\\",\\\"140\\\",\\\"141\\\",\\\"142\\\",\\\"143\\\",\\\"144\\\",\\\"145\\\",\\\"146\\\",\\\"147\\\",\\\"148\\\",\\\"149\\\",\\\"150\\\",\\\"151\\\",\\\"152\\\",\\\"153\\\",\\\"154\\\",\\\"155\\\",\\\"156\\\",\\\"157\\\",\\\"158\\\",\\\"159\\\",\\\"160\\\",\\\"161\\\",\\\"162\\\",\\\"163\\\",\\\"164\\\",\\\"165\\\",\\\"166\\\",\\\"167\\\",\\\"168\\\",\\\"169\\\",\\\"170\\\",\\\"171\\\",\\\"172\\\",\\\"173\\\",\\\"174\\\",\\\"175\\\",\\\"176\\\",\\\"177\\\",\\\"178\\\",\\\"179\\\",\\\"180\\\",\\\"181\\\",\\\"182\\\",\\\"183\\\",\\\"184\\\",\\\"185\\\",\\\"186\\\",\\\"187\\\",\\\"188\\\",\\\"189\\\",\\\"190\\\",\\\"191\\\",\\\"192\\\",\\\"193\\\",\\\"194\\\",\\\"195\\\"],\\\"changes\\\":WebIO.getval({\\\"name\\\":\\\"changes\\\",\\\"scope\\\":\\\"7423381077373507044\\\",\\\"id\\\":\\\"11811254211027028043\\\",\\\"type\\\":\\\"observable\\\"}),\\\"index\\\":WebIO.getval({\\\"name\\\":\\\"index\\\",\\\"scope\\\":\\\"7423381077373507044\\\",\\\"id\\\":\\\"8011094448863728253\\\",\\\"type\\\":\\\"observable\\\"})};\\n    var self = this;\\n    function AppViewModel() {\\n        for (var key in json_data) {\\n            var el = json_data[key];\\n            this[key] = Array.isArray(el) ? ko.observableArray(el) : ko.observable(el);\\n        }\\n        \\n        [this[\\\"formatted_val\\\"]=ko.computed(    function(){\\n        return this.formatted_vals()[parseInt(this.index())-(1)];\\n    }\\n,this)]\\n        [this[\\\"changes\\\"].subscribe((function (val){!(this.valueFromJulia[\\\"changes\\\"]) ? (WebIO.setval({\\\"name\\\":\\\"changes\\\",\\\"scope\\\":\\\"7423381077373507044\\\",\\\"id\\\":\\\"11811254211027028043\\\",\\\"type\\\":\\\"observable\\\"},val)) : undefined; return this.valueFromJulia[\\\"changes\\\"]=false}),self),this[\\\"index\\\"].subscribe((function (val){!(this.valueFromJulia[\\\"index\\\"]) ? (WebIO.setval({\\\"name\\\":\\\"index\\\",\\\"scope\\\":\\\"7423381077373507044\\\",\\\"id\\\":\\\"8011094448863728253\\\",\\\"type\\\":\\\"observable\\\"},val)) : undefined; return this.valueFromJulia[\\\"index\\\"]=false}),self)]\\n        \\n    }\\n    self.model = new AppViewModel();\\n    self.valueFromJulia = {};\\n    for (var key in json_data) {\\n        self.valueFromJulia[key] = false;\\n    }\\n    ko.applyBindings(self.model, self.dom);\\n}\\n);\\n    (WebIO.importBlock({\\\"data\\\":[{\\\"name\\\":\\\"knockout\\\",\\\"type\\\":\\\"js\\\",\\\"url\\\":\\\"/assetserver/4bc0fe6d4d82f92d7771005479d646598c9746a6-knockout.js\\\"},{\\\"name\\\":\\\"knockout_punches\\\",\\\"type\\\":\\\"js\\\",\\\"url\\\":\\\"/assetserver/7da5842cd6d5643a614940cc3607900a91878fba-knockout_punches.js\\\"}],\\\"type\\\":\\\"async_block\\\"})).then((imports) => handler.apply(this, imports));\\n}\\n\")])], Dict{Symbol,Any}(:className => \"field interact-widget\")), Observable{Node{WebIO.DOM}} with 0 listeners. Value:\n",
       "Node{WebIO.DOM}(WebIO.DOM(:html, :div), Any[\u001b[1mDataFrameRow\u001b[0m\n",
       "\u001b[1m Row \u001b[0m│\u001b[1m Provice   \u001b[0m\u001b[1m Country       \u001b[0m\u001b[1m Lat      \u001b[0m\u001b[1m Long     \u001b[0m\u001b[1m 1/22/20 \u001b[0m\n",
       "\u001b[1m     \u001b[0m│\u001b[90m String63? \u001b[0m\u001b[90m String63      \u001b[0m\u001b[90m Float64? \u001b[0m\u001b[90m Float64? \u001b[0m\u001b[90m Int64   \u001b[0m\n",
       "─────┼───────────────────────────────────────────────────────\n",
       "  98 │\u001b[90m missing   \u001b[0m Cote d'Ivoire      7.54   -5.5471        0], Dict{Symbol,Any}(:className => \"interact-flex-row interact-widget\"))], Dict{Symbol,Any}())"
      ]
     },
     "execution_count": 34,
     "metadata": {},
     "output_type": "execute_result"
    }
   ],
   "source": [
    "@manipulate for i in 1:length(cntr_list)\n",
    "\t@show data[i, 1:5]\n",
    "end"
   ]
  },
  {
   "cell_type": "code",
   "execution_count": 33,
   "metadata": {},
   "outputs": [
    {
     "data": {
      "text/html": [
       "<div class=\"data-frame\"><p>6 rows × 5 columns</p><table class=\"data-frame\"><thead><tr><th></th><th>Provice</th><th>Country</th><th>Lat</th><th>Long</th><th>1/22/20</th></tr><tr><th></th><th title=\"Union{Missing, String63}\">String63?</th><th title=\"String63\">String63</th><th title=\"Union{Missing, Float64}\">Float64?</th><th title=\"Union{Missing, Float64}\">Float64?</th><th title=\"Int64\">Int64</th></tr></thead><tbody><tr><th>1</th><td><em>missing</em></td><td>Angola</td><td>-11.2027</td><td>17.8739</td><td>0</td></tr><tr><th>2</th><td><em>missing</em></td><td>Antigua and Barbuda</td><td>17.0608</td><td>-61.7964</td><td>0</td></tr><tr><th>3</th><td><em>missing</em></td><td>Argentina</td><td>-38.4161</td><td>-63.6167</td><td>0</td></tr><tr><th>4</th><td><em>missing</em></td><td>Armenia</td><td>40.0691</td><td>45.0382</td><td>0</td></tr><tr><th>5</th><td>Australian Capital Territory</td><td>Australia</td><td>-35.4735</td><td>149.012</td><td>0</td></tr><tr><th>6</th><td>New South Wales</td><td>Australia</td><td>-33.8688</td><td>151.209</td><td>0</td></tr></tbody></table></div>"
      ],
      "text/latex": [
       "\\begin{tabular}{r|ccccc}\n",
       "\t& Provice & Country & Lat & Long & 1/22/20\\\\\n",
       "\t\\hline\n",
       "\t& String63? & String63 & Float64? & Float64? & Int64\\\\\n",
       "\t\\hline\n",
       "\t1 & \\emph{missing} & Angola & -11.2027 & 17.8739 & 0 \\\\\n",
       "\t2 & \\emph{missing} & Antigua and Barbuda & 17.0608 & -61.7964 & 0 \\\\\n",
       "\t3 & \\emph{missing} & Argentina & -38.4161 & -63.6167 & 0 \\\\\n",
       "\t4 & \\emph{missing} & Armenia & 40.0691 & 45.0382 & 0 \\\\\n",
       "\t5 & Australian Capital Territory & Australia & -35.4735 & 149.012 & 0 \\\\\n",
       "\t6 & New South Wales & Australia & -33.8688 & 151.209 & 0 \\\\\n",
       "\\end{tabular}\n"
      ],
      "text/plain": [
       "\u001b[1m6×5 DataFrame\u001b[0m\n",
       "\u001b[1m Row \u001b[0m│\u001b[1m Provice                      \u001b[0m\u001b[1m Country             \u001b[0m\u001b[1m Lat      \u001b[0m\u001b[1m Long     \u001b[0m\u001b[1m \u001b[0m ⋯\n",
       "\u001b[1m     \u001b[0m│\u001b[90m String63?                    \u001b[0m\u001b[90m String63            \u001b[0m\u001b[90m Float64? \u001b[0m\u001b[90m Float64? \u001b[0m\u001b[90m \u001b[0m ⋯\n",
       "─────┼──────────────────────────────────────────────────────────────────────────\n",
       "   1 │\u001b[90m missing                      \u001b[0m Angola               -11.2027   17.8739   ⋯\n",
       "   2 │\u001b[90m missing                      \u001b[0m Antigua and Barbuda   17.0608  -61.7964\n",
       "   3 │\u001b[90m missing                      \u001b[0m Argentina            -38.4161  -63.6167\n",
       "   4 │\u001b[90m missing                      \u001b[0m Armenia               40.0691   45.0382\n",
       "   5 │ Australian Capital Territory  Australia            -35.4735  149.012    ⋯\n",
       "   6 │ New South Wales               Australia            -33.8688  151.209\n",
       "\u001b[36m                                                                1 column omitted\u001b[0m"
      ]
     },
     "execution_count": 33,
     "metadata": {},
     "output_type": "execute_result"
    }
   ],
   "source": [
    "data[5:10, 1:5]"
   ]
  },
  {
   "cell_type": "code",
   "execution_count": null,
   "metadata": {},
   "outputs": [],
   "source": []
  },
  {
   "cell_type": "code",
   "execution_count": null,
   "metadata": {},
   "outputs": [],
   "source": []
  },
  {
   "cell_type": "code",
   "execution_count": null,
   "metadata": {},
   "outputs": [],
   "source": []
  },
  {
   "cell_type": "code",
   "execution_count": null,
   "metadata": {},
   "outputs": [],
   "source": []
  },
  {
   "cell_type": "code",
   "execution_count": null,
   "metadata": {},
   "outputs": [],
   "source": []
  },
  {
   "cell_type": "code",
   "execution_count": null,
   "metadata": {},
   "outputs": [],
   "source": []
  },
  {
   "cell_type": "code",
   "execution_count": null,
   "metadata": {},
   "outputs": [],
   "source": []
  }
 ],
 "metadata": {
  "@webio": {
   "lastCommId": "7668b9e52ec141d68f0b85472f3d66ab",
   "lastKernelId": "a64a980e-be92-47e1-97f8-a42185162885"
  },
  "kernelspec": {
   "display_name": "Julia 1.4.1",
   "language": "julia",
   "name": "julia-1.4"
  },
  "language_info": {
   "file_extension": ".jl",
   "mimetype": "application/julia",
   "name": "julia",
   "version": "1.4.1"
  }
 },
 "nbformat": 4,
 "nbformat_minor": 5
}
